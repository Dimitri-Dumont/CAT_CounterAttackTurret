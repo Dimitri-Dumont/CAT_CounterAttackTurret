{
  "nbformat": 4,
  "nbformat_minor": 0,
  "metadata": {
    "colab": {
      "provenance": []
    },
    "kernelspec": {
      "name": "python3",
      "display_name": "Python 3"
    },
    "language_info": {
      "name": "python"
    }
  },
  "cells": [
    {
      "cell_type": "markdown",
      "source": [
        "# CAT synthetic data generation\n",
        "\n",
        "Due to time constraints, we generated synthetic data for our time series for the counter attack turret (CAT) system. Below is a function to generate 10000 rows of data we needed to simulate a cat jumping on a counter."
      ],
      "metadata": {
        "id": "RqYCFsDN6eis"
      }
    },
    {
      "cell_type": "code",
      "execution_count": 3,
      "metadata": {
        "colab": {
          "base_uri": "https://localhost:8080/"
        },
        "id": "SV2w_uSM6YNE",
        "outputId": "f3898dc5-f109-4a38-d2a6-c20ce84514d2"
      },
      "outputs": [
        {
          "output_type": "stream",
          "name": "stdout",
          "text": [
            "             timestamp  is_counter_access_attempted   last_feeding_time  \\\n",
            "0  2023-01-01 00:00:00                        False 2022-12-31 21:00:00   \n",
            "1  2023-01-01 00:01:00                        False 2022-12-31 21:00:00   \n",
            "2  2023-01-01 00:02:00                        False 2022-12-31 21:00:00   \n",
            "3  2023-01-01 00:03:00                        False 2022-12-31 21:00:00   \n",
            "4  2023-01-01 00:04:00                        False 2022-12-31 21:00:00   \n",
            "5  2023-01-01 00:05:00                        False 2022-12-31 21:00:00   \n",
            "6  2023-01-01 00:06:00                         True 2022-12-31 21:00:00   \n",
            "7  2023-01-01 00:07:00                         True 2022-12-31 21:00:00   \n",
            "8  2023-01-01 00:08:00                         True 2022-12-31 21:00:00   \n",
            "9  2023-01-01 00:09:00                         True 2022-12-31 21:00:00   \n",
            "10 2023-01-01 00:10:00                         True 2022-12-31 21:00:00   \n",
            "11 2023-01-01 00:11:00                        False 2022-12-31 21:00:00   \n",
            "12 2023-01-01 00:12:00                        False 2022-12-31 21:00:00   \n",
            "13 2023-01-01 00:13:00                         True 2022-12-31 21:00:00   \n",
            "14 2023-01-01 00:14:00                         True 2022-12-31 21:00:00   \n",
            "15 2023-01-01 00:15:00                        False 2022-12-31 21:00:00   \n",
            "16 2023-01-01 00:16:00                        False 2022-12-31 21:00:00   \n",
            "17 2023-01-01 00:17:00                         True 2022-12-31 21:00:00   \n",
            "18 2023-01-01 00:18:00                        False 2022-12-31 21:00:00   \n",
            "19 2023-01-01 00:19:00                         True 2022-12-31 21:00:00   \n",
            "\n",
            "     next_feeding_time  \n",
            "0  2023-01-01 08:00:00  \n",
            "1  2023-01-01 08:00:00  \n",
            "2  2023-01-01 08:00:00  \n",
            "3  2023-01-01 08:00:00  \n",
            "4  2023-01-01 08:00:00  \n",
            "5  2023-01-01 08:00:00  \n",
            "6  2023-01-01 08:00:00  \n",
            "7  2023-01-01 08:00:00  \n",
            "8  2023-01-01 08:00:00  \n",
            "9  2023-01-01 08:00:00  \n",
            "10 2023-01-01 08:00:00  \n",
            "11 2023-01-01 08:00:00  \n",
            "12 2023-01-01 08:00:00  \n",
            "13 2023-01-01 08:00:00  \n",
            "14 2023-01-01 08:00:00  \n",
            "15 2023-01-01 08:00:00  \n",
            "16 2023-01-01 08:00:00  \n",
            "17 2023-01-01 08:00:00  \n",
            "18 2023-01-01 08:00:00  \n",
            "19 2023-01-01 08:00:00  \n"
          ]
        }
      ],
      "source": [
        "import pandas as pd\n",
        "import numpy as np\n",
        "import random\n",
        "from datetime import datetime, timedelta, time\n",
        "\n",
        "def generate_cat_counter_data(num_rows=1000, start_date=datetime(2023, 1, 1)):\n",
        "    \"\"\"Generates synthetic time series data with adjusted counter access probability.\"\"\"\n",
        "\n",
        "    timestamps = [start_date + timedelta(minutes=i) for i in range(num_rows)]\n",
        "\n",
        "    is_counter_access_attempted = []\n",
        "    last_feeding_time = []\n",
        "    next_feeding_time = []\n",
        "\n",
        "    feeding_times = [time(8, 0), time(15, 0), time(21, 0)]  # 8 AM, 3 PM, 9 PM\n",
        "\n",
        "    for timestamp in timestamps:\n",
        "        # Determine the last and next feeding times\n",
        "        last_feeding = None\n",
        "        next_feeding = None\n",
        "        for feeding_time in feeding_times:\n",
        "            feeding_datetime = datetime.combine(timestamp.date(), feeding_time)\n",
        "            if feeding_datetime <= timestamp:\n",
        "                last_feeding = feeding_datetime\n",
        "            else:\n",
        "                next_feeding = feeding_datetime\n",
        "                break\n",
        "\n",
        "        if last_feeding is None:\n",
        "            last_feeding = datetime.combine(timestamp.date() - timedelta(days=1), feeding_times[-1])\n",
        "        if next_feeding is None:\n",
        "            next_feeding = datetime.combine(timestamp.date() + timedelta(days=1), feeding_times[0])\n",
        "\n",
        "        last_feeding_time.append(last_feeding)\n",
        "        next_feeding_time.append(next_feeding)\n",
        "\n",
        "        # Adjusted Counter access simulation\n",
        "        time_since_last_feeding = timestamp - last_feeding\n",
        "        time_until_next_feeding = next_feeding - timestamp\n",
        "\n",
        "        # Probability increases linearly as time since the last feeding increases,\n",
        "        # and reaches its maximum just before the next feeding.\n",
        "        access_probability = time_since_last_feeding.total_seconds() / (next_feeding - last_feeding).total_seconds()\n",
        "\n",
        "        # Add some randomness\n",
        "        access_probability += random.uniform(-0.1, 0.1)\n",
        "        access_probability = max(0, min(1, access_probability))\n",
        "\n",
        "        is_counter_access_attempted.append(random.random() < access_probability)\n",
        "\n",
        "    data = {\n",
        "        'timestamp': timestamps,\n",
        "        'is_counter_access_attempted': is_counter_access_attempted,\n",
        "        'last_feeding_time': last_feeding_time,\n",
        "        'next_feeding_time': next_feeding_time\n",
        "    }\n",
        "    df = pd.DataFrame(data)\n",
        "    return df\n",
        "\n",
        "# Generate and display the data\n",
        "cat_data = generate_cat_counter_data(2000)\n",
        "print(cat_data.head(20))\n",
        "cat_data.to_csv(\"cat_counter_data.csv\", index=False)"
      ]
    }
  ]
}