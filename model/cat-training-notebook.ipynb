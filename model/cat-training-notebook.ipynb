{
 "cells": [
  {
   "cell_type": "markdown",
   "metadata": {},
   "source": [
    "# Cat Image Classifier\n",
    "\n",
    "This notebook implements a CNN to designed to detect cats in images\n",
    "\n"
   ]
  },
  {
   "cell_type": "code",
   "execution_count": 5,
   "metadata": {},
   "outputs": [],
   "source": [
    "import tensorflow as tf\n",
    "import os\n",
    "import pathlib\n",
    "import shutil\n",
    "import matplotlib.pyplot as plt\n",
    "import kagglehub"
   ]
  },
  {
   "cell_type": "code",
   "execution_count": 6,
   "metadata": {},
   "outputs": [
    {
     "name": "stdout",
     "output_type": "stream",
     "text": [
      "Num GPUs Available:  1\n"
     ]
    }
   ],
   "source": [
    "# Check if GPU is available\n",
    "print(\"Num GPUs Available: \", len(tf.config.list_physical_devices('GPU')))"
   ]
  },
  {
   "cell_type": "markdown",
   "metadata": {},
   "source": [
    "## Merge Data sets \n",
    "For the puposes of this project we will splice two datasets: karakaggle/kaggle-cat-vs-dog-dataset and mikhailma/house-rooms-streets-image-dataset into one specificed for cat detection.\n",
    "This spliced dataset will contain cat image folder and a household image folder. The goal of our cnn will be to detect whether or not a cat is present in a household image.\n"
   ]
  },
  {
   "cell_type": "code",
   "execution_count": null,
   "metadata": {},
   "outputs": [],
   "source": [
    "path_catVdog = kagglehub.dataset_download('karakaggle/kaggle-cat-vs-dog-dataset')\n",
    "# Download the house-rooms-streets dataset\n",
    "path_house = kagglehub.dataset_download('mikhailma/house-rooms-streets-image-dataset')\n"
   ]
  },
  {
   "cell_type": "code",
   "execution_count": null,
   "metadata": {},
   "outputs": [],
   "source": [
    "\n",
    "# Create data directory if it doesn't exist\n",
    "data_dir = 'data'\n",
    "if not os.path.exists(data_dir):\n",
    "    os.makedirs(data_dir)\n",
    "\n",
    "# Move cat images\n",
    "cat_source = os.path.join(path_catVdog, \"Cat\")\n",
    "cat_dest = os.path.join(data_dir, \"Cat\")\n",
    "if os.path.exists(cat_source):\n",
    "    if not os.path.exists(cat_dest):\n",
    "        shutil.copytree(cat_source, cat_dest)\n",
    "    print(f\"Moved cat images to {cat_dest}\")\n",
    "else:\n",
    "    print(\"Cat source directory not found\")\n",
    "\n",
    "# Move house images \n",
    "house_source = os.path.join(path_house, \"house_data\")\n",
    "house_dest = os.path.join(data_dir, \"house_data\")\n",
    "if os.path.exists(house_source):\n",
    "    if not os.path.exists(house_dest):\n",
    "        shutil.copytree(house_source, house_dest)\n",
    "    print(f\"Moved house images to {house_dest}\")\n",
    "else:\n",
    "    print(\"House source directory not found\")\n"
   ]
  },
  {
   "cell_type": "code",
   "execution_count": 24,
   "metadata": {},
   "outputs": [],
   "source": [
    "class PetClassifier:\n",
    "    def __init__(self, data_dir='dataset', img_size=160, batch_size=32):  # Reduced image size\n",
    "        self.data_dir = pathlib.Path(data_dir)\n",
    "        self.img_size = img_size\n",
    "        self.batch_size = batch_size\n",
    "        self.setup_hardware()\n",
    "\n",
    "    def setup_hardware(self):\n",
    "        \"\"\"Configure TensorFlow for available hardware.\"\"\"\n",
    "        gpus = tf.config.list_physical_devices('GPU')\n",
    "        if gpus:\n",
    "            try:\n",
    "                for gpu in gpus:\n",
    "                    tf.config.experimental.set_memory_growth(gpu, True)\n",
    "                tf.keras.mixed_precision.set_global_policy('mixed_float16')\n",
    "                print(f\"Training on {len(gpus)} GPU(s) with mixed precision\")\n",
    "            except RuntimeError as e:\n",
    "                print(f\"GPU setup error: {e}\")\n",
    "                print(\"Training on CPU\")\n",
    "        else:\n",
    "            print(\"No GPU found. Training on CPU\")\n",
    "            \n",
    "    def validate_and_copy_images(self, source_dir, dest_dir):\n",
    "        \"\"\"Validate images and copy only valid ones.\"\"\"\n",
    "        valid_count = 0\n",
    "        invalid_count = 0\n",
    "        \n",
    "        os.makedirs(dest_dir, exist_ok=True)\n",
    "        \n",
    "        for img_name in os.listdir(source_dir):\n",
    "            if not img_name.lower().endswith(('.jpg', '.jpeg', '.png')):\n",
    "                continue\n",
    "                \n",
    "            source_path = os.path.join(source_dir, img_name)\n",
    "            try:\n",
    "                # Try to open and verify the image\n",
    "                img = tf.io.read_file(source_path)\n",
    "                img = tf.image.decode_image(img, channels=3)\n",
    "                \n",
    "                # If we got here, the image is valid\n",
    "                dest_path = os.path.join(dest_dir, img_name)\n",
    "                shutil.copy2(source_path, dest_path)\n",
    "                valid_count += 1\n",
    "                \n",
    "            except Exception as e:\n",
    "                print(f\"Skipping corrupted image {img_name}: {str(e)}\")\n",
    "                invalid_count += 1\n",
    "                \n",
    "        return valid_count, invalid_count\n",
    "\n",
    "    def prepare_dataset(self):\n",
    "        \"\"\"Create TensorFlow dataset with augmentation.\"\"\"\n",
    "        try:\n",
    "            print(\"Checking data directory structure...\")\n",
    "            cat_dir = os.path.join(self.data_dir, 'Cat')\n",
    "            house_dir = os.path.join(self.data_dir, 'house_data')\n",
    "            \n",
    "            # Create new directory structure\n",
    "            processed_dir = os.path.join(self.data_dir, 'processed')\n",
    "            positive_dir = os.path.join(processed_dir, 'cat')\n",
    "            negative_dir = os.path.join(processed_dir, 'no_cat')\n",
    "            \n",
    "            # Clear processed directory if it exists\n",
    "            if os.path.exists(processed_dir):\n",
    "                shutil.rmtree(processed_dir)\n",
    "            \n",
    "            # Validate and copy images\n",
    "            print(\"Validating and copying cat images...\")\n",
    "            cat_valid, cat_invalid = self.validate_and_copy_images(cat_dir, positive_dir)\n",
    "            print(f\"Cat images - Valid: {cat_valid}, Invalid: {cat_invalid}\")\n",
    "            \n",
    "            print(\"Validating and copying house images...\")\n",
    "            house_valid, house_invalid = self.validate_and_copy_images(house_dir, negative_dir)\n",
    "            print(f\"House images - Valid: {house_valid}, Invalid: {house_invalid}\")\n",
    "            \n",
    "            if cat_valid == 0 or house_valid == 0:\n",
    "                raise ValueError(\"No valid images found in one or both classes\")\n",
    "            \n",
    "            # Create dataset from processed directory\n",
    "            train_ds = tf.keras.utils.image_dataset_from_directory(\n",
    "                processed_dir,\n",
    "                validation_split=0.2,\n",
    "                subset=\"training\",\n",
    "                seed=123,\n",
    "                image_size=(self.img_size, self.img_size),\n",
    "                batch_size=self.batch_size,\n",
    "                label_mode='binary'\n",
    "            )\n",
    "            \n",
    "            val_ds = tf.keras.utils.image_dataset_from_directory(\n",
    "                processed_dir,\n",
    "                validation_split=0.2,\n",
    "                subset=\"validation\",\n",
    "                seed=123,\n",
    "                image_size=(self.img_size, self.img_size),\n",
    "                batch_size=self.batch_size,\n",
    "                label_mode='binary'\n",
    "            )\n",
    "            \n",
    "            # Configure for performance\n",
    "            AUTOTUNE = tf.data.AUTOTUNE\n",
    "            \n",
    "            # Define preprocessing function\n",
    "            def preprocess(images, labels):\n",
    "                images = tf.cast(images, tf.float32) / 255.0\n",
    "                return images, labels\n",
    "            \n",
    "            # Apply preprocessing\n",
    "            train_ds = (train_ds\n",
    "                    .map(preprocess, num_parallel_calls=AUTOTUNE)\n",
    "                    .cache()\n",
    "                    .prefetch(AUTOTUNE))\n",
    "            \n",
    "            val_ds = (val_ds\n",
    "                    .map(preprocess, num_parallel_calls=AUTOTUNE)\n",
    "                    .cache()\n",
    "                    .prefetch(AUTOTUNE))\n",
    "            \n",
    "            return train_ds, val_ds\n",
    "            \n",
    "        except Exception as e:\n",
    "            print(f\"Error in prepare_dataset: {str(e)}\")\n",
    "            raise\n",
    "    def build_model(self):\n",
    "        \"\"\"Create a lighter CNN model suitable for Raspberry Pi.\"\"\"\n",
    "        model = tf.keras.Sequential([\n",
    "            # Input layer\n",
    "            tf.keras.layers.Input(shape=(self.img_size, self.img_size, 3)),\n",
    "            \n",
    "            # First conv block\n",
    "            tf.keras.layers.Conv2D(16, 3, activation='relu', padding='same'),\n",
    "            tf.keras.layers.MaxPooling2D(),\n",
    "            \n",
    "            # Second conv block\n",
    "            tf.keras.layers.Conv2D(32, 3, activation='relu', padding='same'),\n",
    "            tf.keras.layers.MaxPooling2D(),\n",
    "            \n",
    "            # Third conv block\n",
    "            tf.keras.layers.Conv2D(64, 3, activation='relu', padding='same'),\n",
    "            tf.keras.layers.MaxPooling2D(),\n",
    "            \n",
    "            # Dense layers\n",
    "            tf.keras.layers.GlobalAveragePooling2D(),\n",
    "            tf.keras.layers.Dense(64, activation='relu'),\n",
    "            tf.keras.layers.Dropout(0.5),\n",
    "            tf.keras.layers.Dense(1, activation='sigmoid')\n",
    "        ])\n",
    "        \n",
    "        return model\n",
    "\n",
    "    def train(self, epochs=10):\n",
    "            \"\"\"Train the model.\"\"\"\n",
    "            # Prepare data\n",
    "            train_ds, val_ds = self.prepare_dataset()\n",
    "            \n",
    "            # Build and compile model\n",
    "            model = self.build_model()\n",
    "            model.compile(\n",
    "                optimizer='adam',\n",
    "                loss=tf.keras.losses.BinaryCrossentropy(),\n",
    "                metrics=['accuracy']\n",
    "            )\n",
    "            \n",
    "            # Callbacks\n",
    "            callbacks = [\n",
    "                tf.keras.callbacks.ModelCheckpoint(\n",
    "                    'best_model.h5',\n",
    "                    save_best_only=True,\n",
    "                    monitor='val_accuracy'\n",
    "                ),\n",
    "                tf.keras.callbacks.EarlyStopping(\n",
    "                    monitor='val_accuracy',\n",
    "                    patience=5,\n",
    "                    restore_best_weights=True\n",
    "                ),\n",
    "                tf.keras.callbacks.ReduceLROnPlateau(\n",
    "                    monitor='val_loss',\n",
    "                    factor=0.5,\n",
    "                    patience=3\n",
    "                ),\n",
    "                tf.keras.callbacks.TensorBoard(\n",
    "                    log_dir='./logs',\n",
    "                    histogram_freq=1\n",
    "                )\n",
    "            ]\n",
    "            \n",
    "            # Train\n",
    "            history = model.fit(\n",
    "                train_ds,\n",
    "                validation_data=val_ds,\n",
    "                epochs=epochs,\n",
    "                callbacks=callbacks\n",
    "            )\n",
    "            \n",
    "            return model, history"
   ]
  },
  {
   "cell_type": "markdown",
   "metadata": {},
   "source": [
    "## Model Implementation\n",
    "Let's create our PetClassifier class that will handle the data pipeline and model training:"
   ]
  },
  {
   "cell_type": "markdown",
   "metadata": {},
   "source": [
    "## Training the Model\n",
    "Now let's initialize our classifier and train it:"
   ]
  },
  {
   "cell_type": "code",
   "execution_count": 25,
   "metadata": {},
   "outputs": [
    {
     "name": "stdout",
     "output_type": "stream",
     "text": [
      "Training on 1 GPU(s) with mixed precision\n",
      "Checking data directory structure...\n",
      "Validating and copying cat images...\n",
      "Skipping corrupted image 4351.jpg: Input size should match (header_size + row_size * abs_height) but they differ by 2 [Op:DecodeImage]\n",
      "Cat images - Valid: 12489, Invalid: 1\n",
      "Validating and copying house images...\n",
      "House images - Valid: 5249, Invalid: 0\n",
      "Found 17738 files belonging to 2 classes.\n",
      "Using 14191 files for training.\n",
      "Found 17738 files belonging to 2 classes.\n",
      "Using 3547 files for validation.\n",
      "Epoch 1/10\n",
      "444/444 [==============================] - 9s 18ms/step - loss: 0.4926 - accuracy: 0.7743 - val_loss: 0.3512 - val_accuracy: 0.8672 - lr: 0.0010\n",
      "Epoch 2/10\n",
      "444/444 [==============================] - 3s 7ms/step - loss: 0.3232 - accuracy: 0.8754 - val_loss: 0.2669 - val_accuracy: 0.9041 - lr: 0.0010\n",
      "Epoch 3/10\n",
      "444/444 [==============================] - 3s 6ms/step - loss: 0.2398 - accuracy: 0.9075 - val_loss: 0.1840 - val_accuracy: 0.9281 - lr: 0.0010\n",
      "Epoch 4/10\n",
      "444/444 [==============================] - 3s 7ms/step - loss: 0.1914 - accuracy: 0.9279 - val_loss: 0.1450 - val_accuracy: 0.9450 - lr: 0.0010\n",
      "Epoch 5/10\n",
      "444/444 [==============================] - 3s 7ms/step - loss: 0.1710 - accuracy: 0.9347 - val_loss: 0.1661 - val_accuracy: 0.9312 - lr: 0.0010\n",
      "Epoch 6/10\n",
      "444/444 [==============================] - 3s 7ms/step - loss: 0.1530 - accuracy: 0.9440 - val_loss: 0.1205 - val_accuracy: 0.9526 - lr: 0.0010\n",
      "Epoch 7/10\n",
      "444/444 [==============================] - 3s 6ms/step - loss: 0.1352 - accuracy: 0.9493 - val_loss: 0.1319 - val_accuracy: 0.9467 - lr: 0.0010\n",
      "Epoch 8/10\n",
      "444/444 [==============================] - 3s 7ms/step - loss: 0.1280 - accuracy: 0.9516 - val_loss: 0.1034 - val_accuracy: 0.9594 - lr: 0.0010\n",
      "Epoch 9/10\n",
      "444/444 [==============================] - 3s 6ms/step - loss: 0.1205 - accuracy: 0.9555 - val_loss: 0.1137 - val_accuracy: 0.9546 - lr: 0.0010\n",
      "Epoch 10/10\n",
      "444/444 [==============================] - 3s 6ms/step - loss: 0.1097 - accuracy: 0.9604 - val_loss: 0.1039 - val_accuracy: 0.9586 - lr: 0.0010\n"
     ]
    }
   ],
   "source": [
    "# Initialize classifier with downloaded dataset path\n",
    "classifier = PetClassifier(data_dir=r'C:\\Users\\dimit\\code\\CAT_CounterAttackTurret\\data')\n",
    "\n",
    "# Train the model\n",
    "model, history = classifier.train(epochs=10)"
   ]
  },
  {
   "cell_type": "markdown",
   "metadata": {},
   "source": [
    "## Visualize Training Results\n",
    "Let's plot the training history:"
   ]
  },
  {
   "cell_type": "code",
   "execution_count": 28,
   "metadata": {},
   "outputs": [
    {
     "data": {
      "image/png": "[encoded data removed]",
      "text/plain": [
       "<Figure size 1200x400 with 2 Axes>"
      ]
     },
     "metadata": {},
     "output_type": "display_data"
    }
   ],
   "source": [
    "\n",
    "def plot_training_history(history):\n",
    "    fig, (ax1, ax2) = plt.subplots(1, 2, figsize=(12, 4))\n",
    "    \n",
    "    # Plot accuracy\n",
    "    ax1.plot(history.history['accuracy'], label='Training Accuracy')\n",
    "    ax1.plot(history.history['val_accuracy'], label='Validation Accuracy')\n",
    "    ax1.set_title('Model Accuracy')\n",
    "    ax1.set_xlabel('Epoch')\n",
    "    ax1.set_ylabel('Accuracy')\n",
    "    ax1.legend()\n",
    "    \n",
    "    # Plot loss\n",
    "    ax2.plot(history.history['loss'], label='Training Loss')\n",
    "    ax2.plot(history.history['val_loss'], label='Validation Loss')\n",
    "    ax2.set_title('Model Loss')\n",
    "    ax2.set_xlabel('Epoch')\n",
    "    ax2.set_ylabel('Loss')\n",
    "    ax2.legend()\n",
    "    \n",
    "    plt.tight_layout()\n",
    "    plt.show()\n",
    "\n",
    "plot_training_history(history)"
   ]
  },
  {
   "cell_type": "markdown",
   "metadata": {},
   "source": [
    "## Save the Model\n",
    "Save the trained model for later use:"
   ]
  },
  {
   "cell_type": "code",
   "execution_count": null,
   "metadata": {},
   "outputs": [],
   "source": [
    "model.save('pet_classifier_model.h5')\n",
    "print(\"Model saved successfully!\")\n"
   ]
  },
  {
   "cell_type": "code",
   "execution_count": 30,
   "metadata": {},
   "outputs": [
    {
     "name": "stdout",
     "output_type": "stream",
     "text": [
      "INFO:tensorflow:Assets written to: C:\\Users\\dimit\\AppData\\Local\\Temp\\tmpe3uqoti_\\assets\n"
     ]
    },
    {
     "name": "stderr",
     "output_type": "stream",
     "text": [
      "INFO:tensorflow:Assets written to: C:\\Users\\dimit\\AppData\\Local\\Temp\\tmpe3uqoti_\\assets\n"
     ]
    },
    {
     "name": "stdout",
     "output_type": "stream",
     "text": [
      "Model converted successfully!\n"
     ]
    }
   ],
   "source": [
    "# Load the .h5 model\n",
    "model = tf.keras.models.load_model('pet_classifier_model.h5')\n",
    "\n",
    "# Convert to TFLite with TF Select ops enabled\n",
    "converter = tf.lite.TFLiteConverter.from_keras_model(model)\n",
    "\n",
    "# Enable TF Select ops\n",
    "converter.target_spec.supported_ops = [\n",
    "    tf.lite.OpsSet.TFLITE_BUILTINS,  # enable TensorFlow Lite ops\n",
    "    tf.lite.OpsSet.SELECT_TF_OPS  # enable TensorFlow ops\n",
    "]\n",
    "\n",
    "# Optional: Enable optimization\n",
    "converter.optimizations = [tf.lite.Optimize.DEFAULT]\n",
    "\n",
    "# Convert the model\n",
    "tflite_model = converter.convert()\n",
    "\n",
    "# Save the model\n",
    "with open('pet_classifier_model.tflite', 'wb') as f:\n",
    "    f.write(tflite_model)\n",
    "print(\"Model converted successfully!\")"
   ]
  }
 ],
 "metadata": {
  "kernelspec": {
   "display_name": "tf-gpu",
   "language": "python",
   "name": "python3"
  },
  "language_info": {
   "codemirror_mode": {
    "name": "ipython",
    "version": 3
   },
   "file_extension": ".py",
   "mimetype": "text/x-python",
   "name": "python",
   "nbconvert_exporter": "python",
   "pygments_lexer": "ipython3",
   "version": "3.8.20"
  }
 },
 "nbformat": 4,
 "nbformat_minor": 4
}
